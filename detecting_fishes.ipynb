{
  "nbformat": 4,
  "nbformat_minor": 0,
  "metadata": {
    "colab": {
      "provenance": [],
      "authorship_tag": "ABX9TyObqoK05k3T8LmxtU8Oa49K",
      "include_colab_link": true
    },
    "kernelspec": {
      "name": "python3",
      "display_name": "Python 3"
    },
    "language_info": {
      "name": "python"
    },
    "accelerator": "GPU",
    "gpuClass": "standard"
  },
  "cells": [
    {
      "cell_type": "markdown",
      "metadata": {
        "id": "view-in-github",
        "colab_type": "text"
      },
      "source": [
        "<a href=\"https://colab.research.google.com/github/kyh0885/Devicemart_project/blob/feature%2Fdevelope0324/detecting_fishes.ipynb\" target=\"_parent\"><img src=\"https://colab.research.google.com/assets/colab-badge.svg\" alt=\"Open In Colab\"/></a>"
      ]
    },
    {
      "cell_type": "code",
      "execution_count": null,
      "metadata": {
        "id": "sNDk__xwZH-a"
      },
      "outputs": [],
      "source": [
        "#git clone 및 라이브러리 설치\n",
        "!git clone https://github.com/ultralytics/yolov5\n",
        "%cd yolov5\n",
        "%pip install -qr requirements.txt\n",
        "%pip install -q roboflow\n",
        "\n",
        "import torch\n",
        "import os\n",
        "from IPython.display import Image, clear_output\n",
        "\n",
        "#현재 사용하고 있는 device이름 출력, CUDA사용할 수 없는 경우 'CPU'로 출력\n",
        "print(f\"Setup complete. Using torch {torch.__version__} ({torch.cuda.get_device_properties(0).name if torch.cuda.is_available() else 'CPU'})\")"
      ]
    },
    {
      "cell_type": "code",
      "source": [
        "#객체생성\n",
        "from roboflow import Roboflow\n",
        "rf = Roboflow(api_key=\"9NxG0XkCp0oA7fS3sTQp\", model_format=\"yolov5\", notebook=\"ultralytics\")"
      ],
      "metadata": {
        "id": "u0LOheXMZlKF"
      },
      "execution_count": 2,
      "outputs": []
    },
    {
      "cell_type": "code",
      "source": [
        "#Dataset경로 설정\n",
        "os.environ[\"DATASET_DIRECTORY\"] = \"/content/datasets\""
      ],
      "metadata": {
        "id": "ywJf2lMsZrFN"
      },
      "execution_count": 3,
      "outputs": []
    },
    {
      "cell_type": "code",
      "source": [
        "#Roboflow API를 사용하여 dataset다운로드\n",
        "project = rf.workspace(\"project-wi2nj\").project(\"fish-custom-data\")\n",
        "dataset = project.version(28).download(\"yolov5\")"
      ],
      "metadata": {
        "id": "zIrbQlqhZ_jy"
      },
      "execution_count": null,
      "outputs": []
    },
    {
      "cell_type": "code",
      "source": [
        "#모델학습\n",
        "!python train.py --img 256 --batch 16 --epochs 250 --data {dataset.location}/data.yaml --weights yolov5s.pt --cache"
      ],
      "metadata": {
        "id": "rNFDmi2paAPS"
      },
      "execution_count": null,
      "outputs": []
    },
    {
      "cell_type": "code",
      "source": [
        "%load_ext tensorboard  #tensorboard를 사용하기 위한 확장\n",
        "%tensorboard --logdir runs  #현재 디렉토리에 있는 runs 디렉토리를 log디렉토리로 지정하여 tensorflow 실행"
      ],
      "metadata": {
        "id": "18rHJxIWasWL"
      },
      "execution_count": null,
      "outputs": []
    },
    {
      "cell_type": "code",
      "source": [
        "#이미지 객체 감지\n",
        "!python detect.py --weights runs/train/exp/weights/best.pt --img 256 --conf 0.1 --source {dataset.location}/test/images"
      ],
      "metadata": {
        "id": "MByWGoA1uol7"
      },
      "execution_count": null,
      "outputs": []
    },
    {
      "cell_type": "code",
      "source": [
        "#객체 감지 결과 이미지 출력\n",
        "import glob\n",
        "from IPython.display import Image, display\n",
        "\n",
        "for imageName in glob.glob('/content/yolov5/runs/detect/exp/*.jpg'):\n",
        "    display(Image(filename=imageName))\n",
        "    print(\"\\n\")"
      ],
      "metadata": {
        "id": "Xq0tSNSJuq9j"
      },
      "execution_count": null,
      "outputs": []
    },
    {
      "cell_type": "code",
      "source": [
        "#학습된 모델의 가중치 파일(best.pt) 다운로드\n",
        "from google.colab import files\n",
        "files.download('./runs/train/exp/weights/best.pt')"
      ],
      "metadata": {
        "id": "bA51d6LBvBzK"
      },
      "execution_count": null,
      "outputs": []
    }
  ]
}